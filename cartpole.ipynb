{
  "cells": [
    {
      "cell_type": "markdown",
      "metadata": {
        "id": "view-in-github",
        "colab_type": "text"
      },
      "source": [
        "<a href=\"https://colab.research.google.com/github/seekerpig/cartpole_reinforcementlearning/blob/main/cartpole.ipynb\" target=\"_parent\"><img src=\"https://colab.research.google.com/assets/colab-badge.svg\" alt=\"Open In Colab\"/></a>"
      ]
    },
    {
      "cell_type": "markdown",
      "metadata": {
        "id": "ZauhjPSfX7pI"
      },
      "source": [
        "# Tutorial and Sample Code for Balancing a Pole on a Cart"
      ]
    },
    {
      "cell_type": "markdown",
      "metadata": {
        "id": "UBiYOoesYMvr"
      },
      "source": [
        "## Installing dependencies:"
      ]
    },
    {
      "cell_type": "code",
      "execution_count": 1,
      "metadata": {
        "colab": {
          "base_uri": "https://localhost:8080/"
        },
        "id": "PbgnVwZmX5uW",
        "outputId": "3eb77b10-dac0-43a3-ec4f-0c42f1af2852"
      },
      "outputs": [
        {
          "output_type": "stream",
          "name": "stdout",
          "text": [
            "Looking in indexes: https://pypi.org/simple, https://us-python.pkg.dev/colab-wheels/public/simple/\n",
            "Requirement already satisfied: gym[classic_control] in /usr/local/lib/python3.8/dist-packages (0.25.2)\n",
            "Requirement already satisfied: importlib-metadata>=4.8.0 in /usr/local/lib/python3.8/dist-packages (from gym[classic_control]) (6.0.0)\n",
            "Requirement already satisfied: numpy>=1.18.0 in /usr/local/lib/python3.8/dist-packages (from gym[classic_control]) (1.21.6)\n",
            "Requirement already satisfied: cloudpickle>=1.2.0 in /usr/local/lib/python3.8/dist-packages (from gym[classic_control]) (2.2.1)\n",
            "Requirement already satisfied: gym-notices>=0.0.4 in /usr/local/lib/python3.8/dist-packages (from gym[classic_control]) (0.0.8)\n",
            "Collecting pygame==2.1.0\n",
            "  Downloading pygame-2.1.0-cp38-cp38-manylinux_2_17_x86_64.manylinux2014_x86_64.whl (18.3 MB)\n",
            "\u001b[2K     \u001b[90m━━━━━━━━━━━━━━━━━━━━━━━━━━━━━━━━━━━━━━━━\u001b[0m \u001b[32m18.3/18.3 MB\u001b[0m \u001b[31m48.7 MB/s\u001b[0m eta \u001b[36m0:00:00\u001b[0m\n",
            "\u001b[?25hRequirement already satisfied: zipp>=0.5 in /usr/local/lib/python3.8/dist-packages (from importlib-metadata>=4.8.0->gym[classic_control]) (3.12.1)\n",
            "Installing collected packages: pygame\n",
            "Successfully installed pygame-2.1.0\n",
            "Looking in indexes: https://pypi.org/simple, https://us-python.pkg.dev/colab-wheels/public/simple/\n",
            "Requirement already satisfied: setuptools in /usr/local/lib/python3.8/dist-packages (57.4.0)\n",
            "Collecting setuptools\n",
            "  Downloading setuptools-67.2.0-py3-none-any.whl (1.1 MB)\n",
            "\u001b[2K     \u001b[90m━━━━━━━━━━━━━━━━━━━━━━━━━━━━━━━━━━━━━━━━\u001b[0m \u001b[32m1.1/1.1 MB\u001b[0m \u001b[31m15.0 MB/s\u001b[0m eta \u001b[36m0:00:00\u001b[0m\n",
            "\u001b[?25hInstalling collected packages: setuptools\n",
            "  Attempting uninstall: setuptools\n",
            "    Found existing installation: setuptools 57.4.0\n",
            "    Uninstalling setuptools-57.4.0:\n",
            "      Successfully uninstalled setuptools-57.4.0\n",
            "\u001b[31mERROR: pip's dependency resolver does not currently take into account all the packages that are installed. This behaviour is the source of the following dependency conflicts.\n",
            "ipython 7.9.0 requires jedi>=0.10, which is not installed.\n",
            "cvxpy 1.2.3 requires setuptools<=64.0.2, but you have setuptools 67.2.0 which is incompatible.\u001b[0m\u001b[31m\n",
            "\u001b[0mSuccessfully installed setuptools-67.2.0\n"
          ]
        }
      ],
      "source": [
        "!apt-get install -y xvfb python-opengl > /dev/null 2>&1\n",
        "!pip install gym pyvirtualdisplay > /dev/null 2>&1\n",
        "!pip install gym pyvirtualdisplay > /dev/null 2>&1\n",
        "!apt-get install -y xvfb python-opengl ffmpeg > /dev/null 2>&1\n",
        "!pip install gym[classic_control]\n",
        "!apt-get update > /dev/null 2>&1\n",
        "!apt-get install cmake > /dev/null 2>&1\n",
        "!pip install --upgrade setuptools 2>&1\n",
        "!pip install ez_setup > /dev/null 2>&1"
      ]
    },
    {
      "cell_type": "markdown",
      "metadata": {
        "id": "RwKbYeTgbaTA"
      },
      "source": [
        "## Importing dependencies and define helper functions"
      ]
    },
    {
      "cell_type": "code",
      "execution_count": 2,
      "metadata": {
        "id": "j6KpgCLGYWmj"
      },
      "outputs": [],
      "source": [
        "import gym\n",
        "from gym import logger as gymlogger\n",
        "from gym.wrappers import RecordVideo\n",
        "gymlogger.set_level(40) #error only\n",
        "import tensorflow as tf\n",
        "import numpy as np\n",
        "import random\n",
        "import matplotlib\n",
        "import matplotlib.pyplot as plt\n",
        "%matplotlib inline\n",
        "import math\n",
        "import glob\n",
        "import io\n",
        "import base64\n",
        "from IPython.display import HTML\n",
        "from IPython import display as ipythondisplay\n",
        "\n",
        "def show_video():\n",
        "  mp4list = glob.glob('video/*.mp4')\n",
        "  if len(mp4list) > 0:\n",
        "    mp4 = mp4list[0]\n",
        "    video = io.open(mp4, 'r+b').read()\n",
        "    encoded = base64.b64encode(video)\n",
        "    ipythondisplay.display(HTML(data='''<video alt=\"test\" autoplay \n",
        "                loop controls style=\"height: 400px;\">\n",
        "                <source src=\"data:video/mp4;base64,{0}\" type=\"video/mp4\" />\n",
        "             </video>'''.format(encoded.decode('ascii'))))\n",
        "  else: \n",
        "    print(\"Could not find video\")"
      ]
    },
    {
      "cell_type": "code",
      "source": [
        "# does not work in colab\n",
        "# import gym\n",
        "# import pygame\n",
        "# from gym.utils.play import play\n",
        "# import os\n",
        "# os.environ[\"SDL_VIDEODRIVER\"] = \"directfb\"\n",
        "# mapping = {(pygame.K_LEFT,): 0, (pygame.K_RIGHT,): 1}\n",
        "# play(gym.make(\"CartPole-v0\"), keys_to_action=mapping)"
      ],
      "metadata": {
        "id": "k3x3cvswotVO"
      },
      "execution_count": 3,
      "outputs": []
    },
    {
      "cell_type": "markdown",
      "metadata": {
        "id": "ehbqP9CXbmo7"
      },
      "source": [
        "## Tutorial: Loading CartPole environment"
      ]
    },
    {
      "cell_type": "code",
      "execution_count": 4,
      "metadata": {
        "id": "Go12dH4qbwBy"
      },
      "outputs": [],
      "source": [
        "env = gym.make(\"CartPole-v1\")"
      ]
    },
    {
      "cell_type": "code",
      "source": [],
      "metadata": {
        "id": "VQ4Z2N3EVJpc"
      },
      "execution_count": 4,
      "outputs": []
    },
    {
      "cell_type": "markdown",
      "metadata": {
        "id": "9XZ9g3xrcAXE"
      },
      "source": [
        "We can check the action and observation space of this environment. Discrete(2) means that there are two valid discrete actions: 0 & 1."
      ]
    },
    {
      "cell_type": "code",
      "execution_count": 5,
      "metadata": {
        "colab": {
          "base_uri": "https://localhost:8080/"
        },
        "id": "ytxvVmLdcRyw",
        "outputId": "29ff20b0-61ce-44cf-bf79-62274494f78e"
      },
      "outputs": [
        {
          "output_type": "stream",
          "name": "stdout",
          "text": [
            "Discrete(2)\n"
          ]
        }
      ],
      "source": [
        "print(env.action_space)"
      ]
    },
    {
      "cell_type": "markdown",
      "metadata": {
        "id": "pVXGWi_Ncfg-"
      },
      "source": [
        "The observation space is given below. The first two arrays define the min and max values of the 4 observed values, corresponding to cart position, velocity and pole angle, angular velocity."
      ]
    },
    {
      "cell_type": "code",
      "execution_count": 6,
      "metadata": {
        "colab": {
          "base_uri": "https://localhost:8080/"
        },
        "id": "DyqHr9I5cdkX",
        "outputId": "bc67c346-3afe-4f47-a8ba-0027d40c83bd"
      },
      "outputs": [
        {
          "output_type": "stream",
          "name": "stdout",
          "text": [
            "Box([-4.8000002e+00 -3.4028235e+38 -4.1887903e-01 -3.4028235e+38], [4.8000002e+00 3.4028235e+38 4.1887903e-01 3.4028235e+38], (4,), float32)\n"
          ]
        }
      ],
      "source": [
        "print(env.observation_space)"
      ]
    },
    {
      "cell_type": "markdown",
      "metadata": {
        "id": "HFOdaU2Gdyg0"
      },
      "source": [
        "We call each round of the pole-balancing game an \"episode\". At the start of each episode, make sure the environment is reset, which chooses a random initial state, e.g., pole slightly tilted to the right. This initialization can be achieved by the code below, which returns the observation of the initial state."
      ]
    },
    {
      "cell_type": "code",
      "execution_count": 7,
      "metadata": {
        "colab": {
          "base_uri": "https://localhost:8080/"
        },
        "id": "VMr6qAqxdOsm",
        "outputId": "c4b34d5b-24c2-4d0e-d40b-d1b47b2ce9b0"
      },
      "outputs": [
        {
          "output_type": "stream",
          "name": "stdout",
          "text": [
            "Initial observations: [-0.00838384 -0.00942114 -0.02628176 -0.00131143]\n"
          ]
        }
      ],
      "source": [
        "observation = env.reset()\n",
        "print(\"Initial observations:\", observation)"
      ]
    },
    {
      "cell_type": "markdown",
      "metadata": {
        "id": "qnG2QdfbeZrI"
      },
      "source": [
        "For the CartPole environment, there are two possible actions: 0 for pushing to the left and 1 for pushing to the right. For example, we can push the cart to the left using code below, which returns the new observation, the current reward, an indicator of whether the game ends, and some additional information (not used in this project). For CartPole, the game ends when the pole is significantly tilted or you manage to balance the pole for 500 steps. You get exactly 1 reward for each step before the game ends (i.e., max cumulative reward is 500)."
      ]
    },
    {
      "cell_type": "code",
      "execution_count": 8,
      "metadata": {
        "colab": {
          "base_uri": "https://localhost:8080/"
        },
        "id": "MmfMDvyYdWGk",
        "outputId": "0ba101c9-96bc-441c-986a-6e14da06c44d"
      },
      "outputs": [
        {
          "output_type": "stream",
          "name": "stdout",
          "text": [
            "New observations after choosing action 0: [-0.00857226 -0.2041565  -0.02630799  0.2829648 ]\n",
            "Reward for this step: 1.0\n",
            "Is this round done? False\n"
          ]
        }
      ],
      "source": [
        "observation, reward, done, info = env.step(0)\n",
        "print(\"New observations after choosing action 0:\", observation)\n",
        "print(\"Reward for this step:\", reward)\n",
        "print(\"Is this round done?\", done)"
      ]
    },
    {
      "cell_type": "markdown",
      "metadata": {
        "id": "tj0zCh59fhBb"
      },
      "source": [
        "Now we can play a full round of the game using a naive strategy (always choosing action 0), and show the cumulative reward in the round. Note that reward returned by env.step(*) corresponds to the reward for current step. So we have to accumulate the reward for each step. Clearly, the naive strategy performs poorly by surviving only a dozen of steps."
      ]
    },
    {
      "cell_type": "code",
      "execution_count": 9,
      "metadata": {
        "colab": {
          "base_uri": "https://localhost:8080/"
        },
        "id": "AVucQVRwf6Jm",
        "outputId": "37c2c23c-679b-4b22-c43e-238044a3853a"
      },
      "outputs": [
        {
          "output_type": "stream",
          "name": "stdout",
          "text": [
            "Cumulative reward for this round: 10.0\n"
          ]
        }
      ],
      "source": [
        "observation = env.reset()\n",
        "cumulative_reward = 0\n",
        "done = False\n",
        "while not done:\n",
        "    observation, reward, done, info = env.step(0)\n",
        "    cumulative_reward += reward\n",
        "print(\"Cumulative reward for this round:\", cumulative_reward)"
      ]
    },
    {
      "cell_type": "markdown",
      "metadata": {
        "id": "2oIzK9SzhlWN"
      },
      "source": [
        "## Task 1: Development of an RL agent"
      ]
    },
    {
      "cell_type": "markdown",
      "metadata": {
        "id": "Cc6_e5c_huiq"
      },
      "source": [
        "An example of a naive agent is given below, which randomly chooses an action regardless of the observation:"
      ]
    },
    {
      "cell_type": "code",
      "execution_count": 10,
      "metadata": {
        "id": "Hk-M4QEfh6l5"
      },
      "outputs": [],
      "source": [
        "def rand_policy_agent(observation):\n",
        "    return random.randint(0, 1)"
      ]
    },
    {
      "cell_type": "markdown",
      "source": [
        "## Actual RL Agent implementation:\n",
        "\n",
        "First, due to the nature of the continuous values given by the observation state space, we will need to convert those values into the nearest bin as discrete value in order to use Q-learning else there will be too many combinations of observation state and action to train the agent.\n"
      ],
      "metadata": {
        "id": "X1ndDn-LEmrK"
      }
    },
    {
      "cell_type": "code",
      "source": [
        "#install and import library for discretizer\n",
        "!pip install -U scikit-learn\n",
        "\n"
      ],
      "metadata": {
        "id": "gD8YpLsDZon7",
        "outputId": "2cf0572d-f9d0-47fd-b478-b786b983d232",
        "colab": {
          "base_uri": "https://localhost:8080/"
        }
      },
      "execution_count": 62,
      "outputs": [
        {
          "output_type": "stream",
          "name": "stdout",
          "text": [
            "Looking in indexes: https://pypi.org/simple, https://us-python.pkg.dev/colab-wheels/public/simple/\n",
            "Requirement already satisfied: scikit-learn in /usr/local/lib/python3.8/dist-packages (1.2.1)\n",
            "Requirement already satisfied: numpy>=1.17.3 in /usr/local/lib/python3.8/dist-packages (from scikit-learn) (1.21.6)\n",
            "Requirement already satisfied: joblib>=1.1.1 in /usr/local/lib/python3.8/dist-packages (from scikit-learn) (1.2.0)\n",
            "Requirement already satisfied: scipy>=1.3.2 in /usr/local/lib/python3.8/dist-packages (from scikit-learn) (1.7.3)\n",
            "Requirement already satisfied: threadpoolctl>=2.0.0 in /usr/local/lib/python3.8/dist-packages (from scikit-learn) (3.1.0)\n"
          ]
        }
      ]
    },
    {
      "cell_type": "code",
      "source": [
        "from sklearn.preprocessing import KBinsDiscretizer\n",
        "from typing import Tuple\n",
        "\n",
        "\n",
        "#Regarding training the RL agent, pole angle and velocity is more important, so we can give it more bin to work with\n",
        "bins_sizes = (5,5,20,20)\n",
        "\n",
        "#also note that when working with lower and upper bounds for the bins, for velocity of cart and pole, is -inf and inf, but however based\n",
        "#on actual observations, -2 and 2 is a sufficient upper and lower bound for velocity since splitting the range of -inf and inf into bins is difficult.\n",
        "\n",
        "lower_bounds = [env.observation_space.low[0],-2,env.observation_space.low[2], -2]\n",
        "upper_bounds = [env.observation_space.high[0],2,env.observation_space.high[2], 2]\n",
        "\n",
        "#lower_bounds = [env.observation_space.low[2], -2]\n",
        "#upper_bounds = [env.observation_space.high[2], 2]\n",
        "\n",
        "def discretizer(cartpos, cartvelocity, angle, pole_velocity) -> Tuple[int,...]:\n",
        "  #given the state, we have 4 observed values\n",
        "  kbindiscretizer = KBinsDiscretizer(n_bins = bins_sizes, encode='ordinal', strategy ='uniform')\n",
        "  kbindiscretizer.fit([lower_bounds, upper_bounds])\n",
        "  return tuple(map(int,kbindiscretizer.transform([[cartpos,cartvelocity,angle, pole_velocity]])[0]))\n",
        "  #return tuple(map(int,kbindiscretizer.transform([[cartpos,cartvelocity,angle, pole_velocity]])[0]))\n"
      ],
      "metadata": {
        "id": "J85aDok5EwiM"
      },
      "execution_count": 168,
      "outputs": []
    },
    {
      "cell_type": "code",
      "source": [
        "#Next we can create a qtable with zeros\n",
        "Q_table = np.zeros(bins_sizes + (env.action_space.n,))\n",
        "Q_table.shape\n"
      ],
      "metadata": {
        "id": "tQfJx6WIai0w",
        "outputId": "e8107cf5-6343-4901-b343-2d34410b5769",
        "colab": {
          "base_uri": "https://localhost:8080/"
        }
      },
      "execution_count": 169,
      "outputs": [
        {
          "output_type": "execute_result",
          "data": {
            "text/plain": [
              "(5, 5, 20, 20, 2)"
            ]
          },
          "metadata": {},
          "execution_count": 169
        }
      ]
    },
    {
      "cell_type": "code",
      "source": [
        "# Adaptive learning of Learning Rate\n",
        "def learning_rate(n : int , min_rate=0.01 ) -> float  :\n",
        "    \"\"\"Decaying learning rate\"\"\"\n",
        "    return max(min_rate, min(1.0, 1.0 - math.log10((n + 1) / 25)))\n",
        "\n",
        "def new_Q_value( reward : float ,  new_state : tuple , discount_factor=1 ) -> float:\n",
        "    \"\"\"Temperal diffrence for updating Q-value of state-action pair\"\"\"\n",
        "    future_optimal_value = np.max(Q_table[new_state])\n",
        "    learned_value = reward + discount_factor * future_optimal_value\n",
        "    return learned_value\n",
        "\n",
        "\n",
        "def exploration_rate(n : int, min_rate= 0.1 ) -> float :\n",
        "    \"\"\"Decaying exploration rate\"\"\"\n",
        "    return max(min_rate, min(1, 1.0 - math.log10((n  + 1) / 25)))"
      ],
      "metadata": {
        "id": "7UQFkJoJtglq"
      },
      "execution_count": 170,
      "outputs": []
    },
    {
      "cell_type": "code",
      "source": [
        "#Define configurations for learning rate and epsilon (exploration)\n",
        "n_episodes = 500\n",
        "\n",
        "LEARNING_RATE = 1\n",
        "START_LEARNING_RATE_DECAYING = 1\n",
        "END_LEARNING_RATE_DECAYING = n_episodes//2\n",
        "learning_rate_decay = LEARNING_RATE/(END_LEARNING_RATE_DECAYING - START_LEARNING_RATE_DECAYING)\n",
        "\n",
        "epsilon = 1\n",
        "START_EPSILON_DECAYING = 1\n",
        "END_EPSILON_DECAYING = n_episodes//2\n",
        "epsilon_decay_value = epsilon/(END_EPSILON_DECAYING - START_EPSILON_DECAYING)\n",
        "\n",
        "discount = 1\n",
        "\n",
        "def trained_policy( state : tuple ):\n",
        "    return np.argmax(Q_table[state])"
      ],
      "metadata": {
        "id": "-CxG9ijGauxl"
      },
      "execution_count": 171,
      "outputs": []
    },
    {
      "cell_type": "code",
      "source": [
        "#Train agent\n",
        "env = gym.make('CartPole-v1')\n",
        "#env = gym.make('CartPole-v1', render_mode='human')\n",
        "\n",
        "for e in range(n_episodes):\n",
        "    print(e)\n",
        "    obs = env.reset()\n",
        "    #print(*env.reset()[0])\n",
        "    #print(*obs[0])\n",
        "    done = False\n",
        "\n",
        "    current_state = discretizer(*obs)\n",
        "    \n",
        "    while done==False:\n",
        "        \n",
        "        # policy action \n",
        "        action = trained_policy(current_state) # exploit\n",
        "        \n",
        "        #check whether a random number(0,1) is < epsilon\n",
        "        #if yes, choose a random action to explore\n",
        "        if np.random.random() < exploration_rate(e) : \n",
        "            action = env.action_space.sample() \n",
        "         \n",
        "\n",
        "        obs, reward, done, info = env.step(action)\n",
        "\n",
        "        if(reward == 500):\n",
        "          print(\"Successful episode at: \",e)\n",
        "        \n",
        "        if (done):\n",
        "          break\n",
        "        else:\n",
        "            new_state = discretizer(*obs)\n",
        "        \n",
        "            #update Qtable\n",
        "            lr = learning_rate(e)\n",
        "            #future_value = np.max(Q_table[new_state])\n",
        "            #new_value_for_stateactionpair = reward + discount * future_value\n",
        "            new_value_for_stateactionpair = new_Q_value(reward, new_state)\n",
        "            old_value = Q_table[current_state][action]\n",
        "            Q_table[current_state][action] = (1-lr)*old_value + lr*new_value_for_stateactionpair\n",
        "\n",
        "            current_state = new_state\n",
        "            \n",
        "            #if END_EPSILON_DECAYING >= e >= START_EPSILON_DECAYING:\n",
        "            #    epsilon -= epsilon_decay_value\n",
        "            \n",
        "            # if END_LEARNING_RATE_DECAYING >= e >= START_LEARNING_RATE_DECAYING:\n",
        "            #     if(LEARNING_RATE >= 0.1):\n",
        "            #         LEARNING_RATE -= learning_rate_decay\n",
        "                \n",
        "        \n",
        "        # Render the cartpole environment\n",
        "        #env.render()\n",
        "            \n",
        "        \n",
        "env.close()"
      ],
      "metadata": {
        "id": "sEyOpWAjiXnV",
        "outputId": "b874c338-495e-45cf-cbab-7b5cd7746934",
        "colab": {
          "base_uri": "https://localhost:8080/"
        }
      },
      "execution_count": 172,
      "outputs": [
        {
          "output_type": "stream",
          "name": "stdout",
          "text": [
            "0\n",
            "1\n",
            "2\n",
            "3\n",
            "4\n",
            "5\n",
            "6\n",
            "7\n",
            "8\n",
            "9\n",
            "10\n",
            "11\n",
            "12\n",
            "13\n",
            "14\n",
            "15\n",
            "16\n",
            "17\n",
            "18\n",
            "19\n",
            "20\n",
            "21\n",
            "22\n",
            "23\n",
            "24\n",
            "25\n",
            "26\n",
            "27\n",
            "28\n",
            "29\n",
            "30\n",
            "31\n",
            "32\n",
            "33\n",
            "34\n",
            "35\n",
            "36\n",
            "37\n",
            "38\n",
            "39\n",
            "40\n",
            "41\n",
            "42\n",
            "43\n",
            "44\n",
            "45\n",
            "46\n",
            "47\n",
            "48\n",
            "49\n",
            "50\n",
            "51\n",
            "52\n",
            "53\n",
            "54\n",
            "55\n",
            "56\n",
            "57\n",
            "58\n",
            "59\n",
            "60\n",
            "61\n",
            "62\n",
            "63\n",
            "64\n",
            "65\n",
            "66\n",
            "67\n",
            "68\n",
            "69\n",
            "70\n",
            "71\n",
            "72\n",
            "73\n",
            "74\n",
            "75\n",
            "76\n",
            "77\n",
            "78\n",
            "79\n",
            "80\n",
            "81\n",
            "82\n",
            "83\n",
            "84\n",
            "85\n",
            "86\n",
            "87\n",
            "88\n",
            "89\n",
            "90\n",
            "91\n",
            "92\n",
            "93\n",
            "94\n",
            "95\n",
            "96\n",
            "97\n",
            "98\n",
            "99\n",
            "100\n",
            "101\n",
            "102\n",
            "103\n",
            "104\n",
            "105\n",
            "106\n",
            "107\n",
            "108\n",
            "109\n",
            "110\n",
            "111\n",
            "112\n",
            "113\n",
            "114\n",
            "115\n",
            "116\n",
            "117\n",
            "118\n",
            "119\n",
            "120\n",
            "121\n",
            "122\n",
            "123\n",
            "124\n",
            "125\n",
            "126\n",
            "127\n",
            "128\n",
            "129\n",
            "130\n",
            "131\n",
            "132\n",
            "133\n",
            "134\n",
            "135\n",
            "136\n",
            "137\n",
            "138\n",
            "139\n",
            "140\n",
            "141\n",
            "142\n",
            "143\n",
            "144\n",
            "145\n",
            "146\n",
            "147\n",
            "148\n",
            "149\n",
            "150\n",
            "151\n",
            "152\n",
            "153\n",
            "154\n",
            "155\n",
            "156\n",
            "157\n",
            "158\n",
            "159\n",
            "160\n",
            "161\n",
            "162\n",
            "163\n",
            "164\n",
            "165\n",
            "166\n",
            "167\n",
            "168\n",
            "169\n",
            "170\n",
            "171\n",
            "172\n",
            "173\n",
            "174\n",
            "175\n",
            "176\n",
            "177\n",
            "178\n",
            "179\n",
            "180\n",
            "181\n",
            "182\n",
            "183\n",
            "184\n",
            "185\n",
            "186\n",
            "187\n",
            "188\n",
            "189\n",
            "190\n",
            "191\n",
            "192\n",
            "193\n",
            "194\n",
            "195\n",
            "196\n",
            "197\n",
            "198\n",
            "199\n",
            "200\n",
            "201\n",
            "202\n",
            "203\n",
            "204\n",
            "205\n",
            "206\n",
            "207\n",
            "208\n",
            "209\n",
            "210\n",
            "211\n",
            "212\n",
            "213\n",
            "214\n",
            "215\n",
            "216\n",
            "217\n",
            "218\n",
            "219\n",
            "220\n",
            "221\n",
            "222\n",
            "223\n",
            "224\n",
            "225\n",
            "226\n",
            "227\n",
            "228\n",
            "229\n",
            "230\n",
            "231\n",
            "232\n",
            "233\n",
            "234\n",
            "235\n",
            "236\n",
            "237\n",
            "238\n",
            "239\n",
            "240\n",
            "241\n",
            "242\n",
            "243\n",
            "244\n",
            "245\n",
            "246\n",
            "247\n",
            "248\n",
            "249\n",
            "250\n",
            "251\n",
            "252\n",
            "253\n",
            "254\n",
            "255\n",
            "256\n",
            "257\n",
            "258\n",
            "259\n",
            "260\n",
            "261\n",
            "262\n",
            "263\n",
            "264\n",
            "265\n",
            "266\n",
            "267\n",
            "268\n",
            "269\n",
            "270\n",
            "271\n",
            "272\n",
            "273\n",
            "274\n",
            "275\n",
            "276\n",
            "277\n",
            "278\n",
            "279\n",
            "280\n",
            "281\n",
            "282\n",
            "283\n",
            "284\n",
            "285\n",
            "286\n",
            "287\n",
            "288\n",
            "289\n",
            "290\n",
            "291\n",
            "292\n",
            "293\n",
            "294\n",
            "295\n",
            "296\n",
            "297\n",
            "298\n",
            "299\n",
            "300\n",
            "301\n",
            "302\n",
            "303\n",
            "304\n",
            "305\n",
            "306\n",
            "307\n",
            "308\n",
            "309\n",
            "310\n",
            "311\n",
            "312\n",
            "313\n",
            "314\n",
            "315\n",
            "316\n",
            "317\n",
            "318\n",
            "319\n",
            "320\n",
            "321\n",
            "322\n",
            "323\n",
            "324\n",
            "325\n",
            "326\n",
            "327\n",
            "328\n",
            "329\n",
            "330\n",
            "331\n",
            "332\n",
            "333\n",
            "334\n",
            "335\n",
            "336\n",
            "337\n",
            "338\n",
            "339\n",
            "340\n",
            "341\n",
            "342\n",
            "343\n",
            "344\n",
            "345\n",
            "346\n",
            "347\n",
            "348\n",
            "349\n",
            "350\n",
            "351\n",
            "352\n",
            "353\n",
            "354\n",
            "355\n",
            "356\n",
            "357\n",
            "358\n",
            "359\n",
            "360\n",
            "361\n",
            "362\n",
            "363\n",
            "364\n",
            "365\n",
            "366\n",
            "367\n",
            "368\n",
            "369\n",
            "370\n",
            "371\n",
            "372\n",
            "373\n",
            "374\n",
            "375\n",
            "376\n",
            "377\n",
            "378\n",
            "379\n",
            "380\n",
            "381\n",
            "382\n",
            "383\n",
            "384\n",
            "385\n",
            "386\n",
            "387\n",
            "388\n",
            "389\n",
            "390\n",
            "391\n",
            "392\n",
            "393\n",
            "394\n",
            "395\n",
            "396\n",
            "397\n",
            "398\n",
            "399\n",
            "400\n",
            "401\n",
            "402\n",
            "403\n",
            "404\n",
            "405\n",
            "406\n",
            "407\n",
            "408\n",
            "409\n",
            "410\n",
            "411\n",
            "412\n",
            "413\n",
            "414\n",
            "415\n",
            "416\n",
            "417\n",
            "418\n",
            "419\n",
            "420\n",
            "421\n",
            "422\n",
            "423\n",
            "424\n",
            "425\n",
            "426\n",
            "427\n",
            "428\n",
            "429\n",
            "430\n",
            "431\n",
            "432\n",
            "433\n",
            "434\n",
            "435\n",
            "436\n",
            "437\n",
            "438\n",
            "439\n",
            "440\n",
            "441\n",
            "442\n",
            "443\n",
            "444\n",
            "445\n",
            "446\n",
            "447\n",
            "448\n",
            "449\n",
            "450\n",
            "451\n",
            "452\n",
            "453\n",
            "454\n",
            "455\n",
            "456\n",
            "457\n",
            "458\n",
            "459\n",
            "460\n",
            "461\n",
            "462\n",
            "463\n",
            "464\n",
            "465\n",
            "466\n",
            "467\n",
            "468\n",
            "469\n",
            "470\n",
            "471\n",
            "472\n",
            "473\n",
            "474\n",
            "475\n",
            "476\n",
            "477\n",
            "478\n",
            "479\n",
            "480\n",
            "481\n",
            "482\n",
            "483\n",
            "484\n",
            "485\n",
            "486\n",
            "487\n",
            "488\n",
            "489\n",
            "490\n",
            "491\n",
            "492\n",
            "493\n",
            "494\n",
            "495\n",
            "496\n",
            "497\n",
            "498\n",
            "499\n"
          ]
        }
      ]
    },
    {
      "cell_type": "markdown",
      "metadata": {
        "id": "RAi7KKwNiegR"
      },
      "source": [
        "For Task 1, we can show the observation and chosen action below:"
      ]
    },
    {
      "cell_type": "code",
      "execution_count": 173,
      "metadata": {
        "colab": {
          "base_uri": "https://localhost:8080/"
        },
        "id": "ae2ia-vUiNKJ",
        "outputId": "31a8e34f-6630-4b81-aa64-4a787f67bfd5"
      },
      "outputs": [
        {
          "output_type": "stream",
          "name": "stdout",
          "text": [
            "Observation: [-0.03497717 -0.02554172 -0.0184795   0.00997456]\n",
            "Chosen action: 1\n"
          ]
        }
      ],
      "source": [
        "observation = env.reset()\n",
        "obs = discretizer(*observation)\n",
        "action = trained_policy(obs)\n",
        "#action = rand_policy_agent(observation)\n",
        "print(\"Observation:\", observation)\n",
        "print(\"Chosen action:\", action)"
      ]
    },
    {
      "cell_type": "markdown",
      "metadata": {
        "id": "-XtIQ0Rti1gm"
      },
      "source": [
        "## Task 2: Demonstrate the effectiveness of the RL agent"
      ]
    },
    {
      "cell_type": "markdown",
      "metadata": {
        "id": "djBEShf0kGI4"
      },
      "source": [
        "For this task, use the agent developed in Task 1 to play the game for 100 episodes (refer to tutorial for how to play a round), record the cumulative reward for each round, and plot the reward for each round. A sample plotting code is given below. Note that you must include code to play for 100 episodes and use the code to obtain round_results for plotting. DO NOT record the round results in advance and paste the results to the notebook."
      ]
    },
    {
      "cell_type": "code",
      "source": [
        "env = gym.make('CartPole-v1')\n",
        "\n",
        "episode_results = np.array([])\n",
        "\n",
        "for _ in range(100):\n",
        "    obs = env.reset()\n",
        "    rewards = 0\n",
        "    \n",
        "    current_state, done = discretizer(*obs), False\n",
        "    while done == False:\n",
        "        #print(obs[0][0])\n",
        "\n",
        "        actions = trained_policy(current_state)\n",
        "        #print(actions)\n",
        "        obs, reward, done, info = env.step(actions)\n",
        "        rewards += reward\n",
        "        \n",
        "        new_state = discretizer(*obs)\n",
        "        current_state = new_state\n",
        "        #print(obs[0])\n",
        "        #env.render()\n",
        "        #time.sleep(0.05)\n",
        "\n",
        "    #print(rewards)        \n",
        "    episode_results = np.append(episode_results, rewards)\n",
        "\n",
        "print(\"training complete, episode results populated\")\n",
        "env.close()"
      ],
      "metadata": {
        "id": "ZJnTs6g3lAYW",
        "outputId": "8f7b947a-4064-4822-e960-5ba8c490ba7a",
        "colab": {
          "base_uri": "https://localhost:8080/"
        }
      },
      "execution_count": 174,
      "outputs": [
        {
          "output_type": "stream",
          "name": "stdout",
          "text": [
            "training complete, episode results populated\n"
          ]
        }
      ]
    },
    {
      "cell_type": "code",
      "execution_count": 175,
      "metadata": {
        "colab": {
          "base_uri": "https://localhost:8080/",
          "height": 295
        },
        "id": "RZrCKywQi6CE",
        "outputId": "074f6d29-ff13-4dc0-a1d3-1b61599de6ea"
      },
      "outputs": [
        {
          "output_type": "display_data",
          "data": {
            "text/plain": [
              "<Figure size 432x288 with 1 Axes>"
            ],
            "image/png": "[encoded data removed]"
          },
          "metadata": {
            "needs_background": "light"
          }
        }
      ],
      "source": [
        "# episode_results = np.random.randint(150, 250, size=100)\n",
        "\n",
        "\n",
        "plt.plot(episode_results)\n",
        "plt.title('Cumulative reward for each episode')\n",
        "plt.ylabel('Cumulative reward')\n",
        "plt.xlabel('episode')\n",
        "plt.show()"
      ]
    },
    {
      "cell_type": "markdown",
      "metadata": {
        "id": "XndSYH7wlvn7"
      },
      "source": [
        "Print the average reward over the 100 episodes."
      ]
    },
    {
      "cell_type": "code",
      "execution_count": 176,
      "metadata": {
        "colab": {
          "base_uri": "https://localhost:8080/"
        },
        "id": "pOiOp9OYlo5Y",
        "outputId": "4bf75abe-fde7-4430-9225-2363d17a3f5d"
      },
      "outputs": [
        {
          "output_type": "stream",
          "name": "stdout",
          "text": [
            "Average cumulative reward: 158.92\n",
            "Is my agent good enough? False\n"
          ]
        }
      ],
      "source": [
        "print(\"Average cumulative reward:\", episode_results.mean())\n",
        "print(\"Is my agent good enough?\", episode_results.mean() > 195)"
      ]
    },
    {
      "cell_type": "markdown",
      "metadata": {
        "id": "Yg0DCT38lFA6"
      },
      "source": [
        "## Task 3: Render one episode played by the agent"
      ]
    },
    {
      "cell_type": "markdown",
      "metadata": {
        "id": "vx1awMr9lc_w"
      },
      "source": [
        "Plug your agent to the code below to obtain rendered result."
      ]
    },
    {
      "cell_type": "code",
      "execution_count": 149,
      "metadata": {
        "colab": {
          "base_uri": "https://localhost:8080/",
          "height": 421
        },
        "id": "LYyavfbIa47D",
        "outputId": "a2a69bcc-ffd6-493f-ef8a-e2da7723ff99"
      },
      "outputs": [
        {
          "output_type": "display_data",
          "data": {
            "text/plain": [
              "<IPython.core.display.HTML object>"
            ],
            "text/html": [
              "<video alt=\"test\" autoplay \n",
              "                loop controls style=\"height: 400px;\">\n",
              "                <source src=\"data:video/mp4;base64,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\" type=\"video/mp4\" />\n",
              "             </video>"
            ]
          },
          "metadata": {}
        }
      ],
      "source": [
        "env = RecordVideo(gym.make(\"CartPole-v1\"), \"./video\")\n",
        "observation = env.reset()\n",
        "while True:\n",
        "    env.render()\n",
        "    #your agent goes here\n",
        "    #action = rand_policy_agent(observation)\n",
        "    action = trained_policy(discretizer(*observation))\n",
        "    observation, reward, done, info = env.step(action) \n",
        "    if done: \n",
        "      break;    \n",
        "env.close()\n",
        "show_video()"
      ]
    }
  ],
  "metadata": {
    "colab": {
      "provenance": [],
      "include_colab_link": true
    },
    "kernelspec": {
      "display_name": "Python 3 (ipykernel)",
      "language": "python",
      "name": "python3"
    },
    "language_info": {
      "codemirror_mode": {
        "name": "ipython",
        "version": 3
      },
      "file_extension": ".py",
      "mimetype": "text/x-python",
      "name": "python",
      "nbconvert_exporter": "python",
      "pygments_lexer": "ipython3",
      "version": "3.9.13"
    }
  },
  "nbformat": 4,
  "nbformat_minor": 0
}