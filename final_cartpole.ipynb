{
  "cells": [
    {
      "cell_type": "markdown",
      "metadata": {
        "id": "view-in-github",
        "colab_type": "text"
      },
      "source": [
        "<a href=\"https://colab.research.google.com/github/seekerpig/cartpole_reinforcementlearning/blob/main/final_cartpole.ipynb\" target=\"_parent\"><img src=\"https://colab.research.google.com/assets/colab-badge.svg\" alt=\"Open In Colab\"/></a>"
      ]
    },
    {
      "cell_type": "markdown",
      "metadata": {
        "id": "ZauhjPSfX7pI"
      },
      "source": [
        "# Tutorial and Sample Code for Balancing a Pole on a Cart"
      ]
    },
    {
      "cell_type": "markdown",
      "metadata": {
        "id": "UBiYOoesYMvr"
      },
      "source": [
        "## Installing dependencies:"
      ]
    },
    {
      "cell_type": "code",
      "execution_count": 1,
      "metadata": {
        "colab": {
          "base_uri": "https://localhost:8080/"
        },
        "id": "PbgnVwZmX5uW",
        "outputId": "00cb3b43-3a48-45c0-e0c4-e4b66295c5ba"
      },
      "outputs": [
        {
          "output_type": "stream",
          "name": "stdout",
          "text": [
            "Looking in indexes: https://pypi.org/simple, https://us-python.pkg.dev/colab-wheels/public/simple/\n",
            "Requirement already satisfied: gym[classic_control] in /usr/local/lib/python3.8/dist-packages (0.25.2)\n",
            "Requirement already satisfied: numpy>=1.18.0 in /usr/local/lib/python3.8/dist-packages (from gym[classic_control]) (1.22.4)\n",
            "Requirement already satisfied: importlib-metadata>=4.8.0 in /usr/local/lib/python3.8/dist-packages (from gym[classic_control]) (6.0.0)\n",
            "Requirement already satisfied: gym-notices>=0.0.4 in /usr/local/lib/python3.8/dist-packages (from gym[classic_control]) (0.0.8)\n",
            "Requirement already satisfied: cloudpickle>=1.2.0 in /usr/local/lib/python3.8/dist-packages (from gym[classic_control]) (2.2.1)\n",
            "Collecting pygame==2.1.0\n",
            "  Downloading pygame-2.1.0-cp38-cp38-manylinux_2_17_x86_64.manylinux2014_x86_64.whl (18.3 MB)\n",
            "\u001b[2K     \u001b[90m━━━━━━━━━━━━━━━━━━━━━━━━━━━━━━━━━━━━━━━━\u001b[0m \u001b[32m18.3/18.3 MB\u001b[0m \u001b[31m60.3 MB/s\u001b[0m eta \u001b[36m0:00:00\u001b[0m\n",
            "\u001b[?25hRequirement already satisfied: zipp>=0.5 in /usr/local/lib/python3.8/dist-packages (from importlib-metadata>=4.8.0->gym[classic_control]) (3.15.0)\n",
            "Installing collected packages: pygame\n",
            "Successfully installed pygame-2.1.0\n",
            "Looking in indexes: https://pypi.org/simple, https://us-python.pkg.dev/colab-wheels/public/simple/\n",
            "Requirement already satisfied: setuptools in /usr/local/lib/python3.8/dist-packages (57.4.0)\n",
            "Collecting setuptools\n",
            "  Downloading setuptools-67.4.0-py3-none-any.whl (1.1 MB)\n",
            "\u001b[2K     \u001b[90m━━━━━━━━━━━━━━━━━━━━━━━━━━━━━━━━━━━━━━━━\u001b[0m \u001b[32m1.1/1.1 MB\u001b[0m \u001b[31m18.4 MB/s\u001b[0m eta \u001b[36m0:00:00\u001b[0m\n",
            "\u001b[?25hInstalling collected packages: setuptools\n",
            "  Attempting uninstall: setuptools\n",
            "    Found existing installation: setuptools 57.4.0\n",
            "    Uninstalling setuptools-57.4.0:\n",
            "      Successfully uninstalled setuptools-57.4.0\n",
            "\u001b[31mERROR: pip's dependency resolver does not currently take into account all the packages that are installed. This behaviour is the source of the following dependency conflicts.\n",
            "ipython 7.9.0 requires jedi>=0.10, which is not installed.\n",
            "cvxpy 1.2.3 requires setuptools<=64.0.2, but you have setuptools 67.4.0 which is incompatible.\u001b[0m\u001b[31m\n",
            "\u001b[0mSuccessfully installed setuptools-67.4.0\n"
          ]
        }
      ],
      "source": [
        "!apt-get install -y xvfb python-opengl > /dev/null 2>&1\n",
        "!pip install gym pyvirtualdisplay > /dev/null 2>&1\n",
        "!pip install gym pyvirtualdisplay > /dev/null 2>&1\n",
        "!apt-get install -y xvfb python-opengl ffmpeg > /dev/null 2>&1\n",
        "!pip install gym[classic_control]\n",
        "!apt-get update > /dev/null 2>&1\n",
        "!apt-get install cmake > /dev/null 2>&1\n",
        "!pip install --upgrade setuptools 2>&1\n",
        "!pip install ez_setup > /dev/null 2>&1"
      ]
    },
    {
      "cell_type": "markdown",
      "metadata": {
        "id": "RwKbYeTgbaTA"
      },
      "source": [
        "## Importing dependencies and define helper functions"
      ]
    },
    {
      "cell_type": "code",
      "execution_count": 2,
      "metadata": {
        "id": "j6KpgCLGYWmj"
      },
      "outputs": [],
      "source": [
        "import gym\n",
        "from gym import logger as gymlogger\n",
        "from gym.wrappers import RecordVideo\n",
        "gymlogger.set_level(40) #error only\n",
        "import tensorflow as tf\n",
        "import numpy as np\n",
        "import random\n",
        "import matplotlib\n",
        "import matplotlib.pyplot as plt\n",
        "%matplotlib inline\n",
        "import math\n",
        "import glob\n",
        "import io\n",
        "import base64\n",
        "from IPython.display import HTML\n",
        "from IPython import display as ipythondisplay\n",
        "\n",
        "def show_video():\n",
        "  mp4list = glob.glob('video/*.mp4')\n",
        "  if len(mp4list) > 0:\n",
        "    mp4 = mp4list[0]\n",
        "    video = io.open(mp4, 'r+b').read()\n",
        "    encoded = base64.b64encode(video)\n",
        "    ipythondisplay.display(HTML(data='''<video alt=\"test\" autoplay \n",
        "                loop controls style=\"height: 400px;\">\n",
        "                <source src=\"data:video/mp4;base64,{0}\" type=\"video/mp4\" />\n",
        "             </video>'''.format(encoded.decode('ascii'))))\n",
        "  else: \n",
        "    print(\"Could not find video\")"
      ]
    },
    {
      "cell_type": "code",
      "source": [
        "# does not work in colab\n",
        "# import gym\n",
        "# import pygame\n",
        "# from gym.utils.play import play\n",
        "# import os\n",
        "# os.environ[\"SDL_VIDEODRIVER\"] = \"directfb\"\n",
        "# mapping = {(pygame.K_LEFT,): 0, (pygame.K_RIGHT,): 1}\n",
        "# play(gym.make(\"CartPole-v0\"), keys_to_action=mapping)"
      ],
      "metadata": {
        "id": "k3x3cvswotVO"
      },
      "execution_count": 3,
      "outputs": []
    },
    {
      "cell_type": "markdown",
      "metadata": {
        "id": "2oIzK9SzhlWN"
      },
      "source": [
        "## Task 1: Development of an RL agent"
      ]
    },
    {
      "cell_type": "code",
      "source": [
        "#install and import library for discretizer\n",
        "!pip install -U scikit-learn\n",
        "\n"
      ],
      "metadata": {
        "id": "gD8YpLsDZon7",
        "outputId": "8a6d864a-cef0-4606-d486-1cc267a019a5",
        "colab": {
          "base_uri": "https://localhost:8080/"
        }
      },
      "execution_count": 4,
      "outputs": [
        {
          "output_type": "stream",
          "name": "stdout",
          "text": [
            "Looking in indexes: https://pypi.org/simple, https://us-python.pkg.dev/colab-wheels/public/simple/\n",
            "Requirement already satisfied: scikit-learn in /usr/local/lib/python3.8/dist-packages (1.2.1)\n",
            "Requirement already satisfied: threadpoolctl>=2.0.0 in /usr/local/lib/python3.8/dist-packages (from scikit-learn) (3.1.0)\n",
            "Requirement already satisfied: scipy>=1.3.2 in /usr/local/lib/python3.8/dist-packages (from scikit-learn) (1.10.1)\n",
            "Requirement already satisfied: joblib>=1.1.1 in /usr/local/lib/python3.8/dist-packages (from scikit-learn) (1.2.0)\n",
            "Requirement already satisfied: numpy>=1.17.3 in /usr/local/lib/python3.8/dist-packages (from scikit-learn) (1.22.4)\n"
          ]
        }
      ]
    },
    {
      "cell_type": "markdown",
      "source": [
        "## Actual RL Agent implementation:\n",
        "\n",
        "\n"
      ],
      "metadata": {
        "id": "X1ndDn-LEmrK"
      }
    },
    {
      "cell_type": "markdown",
      "source": [
        "# For training the agent, we will be using Q-Learning.\n",
        "\n",
        "How Q-learning works for this cartpole experiment is..."
      ],
      "metadata": {
        "id": "646z6Ai9m0v2"
      }
    },
    {
      "cell_type": "code",
      "source": [
        "#Importing various libraries\n",
        "#KBinsDiscretizer is used for creating bins for a range of values and for converting any continuous value into one of the bin created.\n",
        "from sklearn.preprocessing import KBinsDiscretizer\n",
        "from typing import Tuple\n",
        "import math\n",
        "\n",
        "\n",
        "#Setup environment for CartPole-v1\n",
        "env = gym.make(\"CartPole-v1\")\n",
        "observation = env.reset()"
      ],
      "metadata": {
        "id": "GzXiVPavkNgI"
      },
      "execution_count": 90,
      "outputs": []
    },
    {
      "cell_type": "markdown",
      "source": [
        "#### First, due to the nature of the continuous values given by the observation state space, we will need to convert those values into the nearest bin as discrete value in order to use Q-learning else there will be too many combinations of observation state and action to train the agent."
      ],
      "metadata": {
        "id": "q-1L49rZogA4"
      }
    },
    {
      "cell_type": "markdown",
      "source": [
        "#### Initially we tried to create a bin size of 20 for each of the 4 attributes in an observation, but however we soon realised after training the agent multiple times, we were not able to get a good model with consistently high reward. This is because if we have 20 bin size for each attribute, and we have a total of 4 attribute, then there would be 20^4 possible combinations, which would require a ridiculously large amount of episodes to ensure we train each combination and its action pair.\n",
        "\n",
        "#### Therefore, based on the attributes in each observations, and after training the agent multiple times using the 4 different attributes, instead of using all 4 attributes from each observation in our training model, we will only look at Cart Position, Pole Angle and Pole Angular Velocity, since these are the most important for keeping the pole upright (pole angle and pole velocity) and also ensure cart stays in the screen (cart position) while keeping pole upright."
      ],
      "metadata": {
        "id": "jSX0gL8Rkf-b"
      }
    },
    {
      "cell_type": "markdown",
      "source": [
        "#### Also, after multiple trials of different bin sizes, we've determined that pole angle and pole velocity deserves more bins because any slight variation of angle/velocity matters in whether pole stays upright.\n",
        "\n",
        "#### This is important because, with more attributes and more bins, this means in our Q-Table, we will have many combinations of the attributes, which would require exponentially more episodes and training in order to ensure that each state, action in Q-table is trained properly.\n"
      ],
      "metadata": {
        "id": "LUrM7e_0kwis"
      }
    },
    {
      "cell_type": "code",
      "source": [
        "import math\n",
        "print(-math.radians(50))\n",
        "\n",
        "env = gym.make(\"CartPole-v1\")\n",
        "print(env.observation_space.low[2])\n",
        "print(env.observation_space.high[2])"
      ],
      "metadata": {
        "id": "-YMl6pKlIaW-",
        "outputId": "cb7bf269-d760-4b28-8e63-7e77192fb3d9",
        "colab": {
          "base_uri": "https://localhost:8080/"
        }
      },
      "execution_count": 91,
      "outputs": [
        {
          "output_type": "stream",
          "name": "stdout",
          "text": [
            "-0.8726646259971648\n",
            "-0.41887903\n",
            "0.41887903\n"
          ]
        }
      ]
    },
    {
      "cell_type": "code",
      "source": [
        "\n",
        "#5 bin size for cart position, 10 bin each for pole angle and pole angular velocity.\n",
        "bins_sizes = (5,10,10)\n",
        "\n",
        "#also note that when working with lower and upper bounds for the bins, for velocity of pole, is -inf and inf, \n",
        "#but however based on actual observations, -1 and 1 is a sufficient upper and lower bound for pole velocity \n",
        "#since splitting the range of -inf and inf into bins is difficult and each bin would also be too huge.\n",
        "lower_bounds = [env.observation_space.low[0], env.observation_space.low[2], -1]\n",
        "upper_bounds = [env.observation_space.high[0], env.observation_space.high[2], 1]\n",
        "\n",
        "#function used to convert continuous values into discrete values \n",
        "def discretizer(cartpos, cartvelocity, angle, pole_velocity) -> Tuple[int,...]:\n",
        "  #given the state, we have 4 observed values\n",
        "  #using KBinsDiscretizer, we fit our lower and upper bounds into the bin sizes.\n",
        "    kbindiscretizer = KBinsDiscretizer(n_bins = bins_sizes, encode='ordinal', strategy ='uniform')\n",
        "    kbindiscretizer.fit([lower_bounds, upper_bounds])\n",
        "\n",
        "  #Given an observation state, we convert each continuous value into a discrete one and return it.\n",
        "    return tuple(map(int,kbindiscretizer.transform([[cartpos, angle, pole_velocity]])[0]))\n",
        "\n"
      ],
      "metadata": {
        "id": "J85aDok5EwiM"
      },
      "execution_count": 92,
      "outputs": []
    },
    {
      "cell_type": "code",
      "source": [
        "#Next we can create a qtable with zeros\n",
        "Q_table = np.zeros(bins_sizes + (env.action_space.n,))\n",
        "\n",
        "#Each state in Q_table consist of cart position (5 possible bins), pole angle (10 possible bins) and pole angular velocity (10 possible bins)\n",
        "#Each state has 2 actions, hence we get Q_table.shape is (5,10,10,2)\n",
        "Q_table.shape\n"
      ],
      "metadata": {
        "id": "tQfJx6WIai0w",
        "outputId": "50173de2-7af7-4a3a-dc8e-12ac2a535b97",
        "colab": {
          "base_uri": "https://localhost:8080/"
        }
      },
      "execution_count": 93,
      "outputs": [
        {
          "output_type": "execute_result",
          "data": {
            "text/plain": [
              "(5, 10, 10, 2)"
            ]
          },
          "metadata": {},
          "execution_count": 93
        }
      ]
    },
    {
      "cell_type": "code",
      "source": [
        "\n"
      ],
      "metadata": {
        "id": "7UQFkJoJtglq"
      },
      "execution_count": 93,
      "outputs": []
    },
    {
      "cell_type": "code",
      "source": [
        "\n",
        "#Configure number of episodes to train agent\n",
        "n_episodes = 500\n",
        "\n",
        "#Define configurations for learning rate and epsilon (exploration)\n",
        "\n",
        "#learning rate gradually decreases as episodes increases\n",
        "def learning_rate(episodeNumber, min_learning_rate =0.01 ):\n",
        "    return max(min_learning_rate, min(1.0, 1.0 - math.log10((episodeNumber + 1) / 25)))\n",
        "\n",
        "#exploration rate decreases as episodes increases\n",
        "def exploration_rate(n : int, min_rate= 0.1 ) -> float :\n",
        "    return max(min_rate, min(1, 1.0 - math.log10((n  + 1) / 25)))\n",
        "\n",
        "# Adaptive learning of Learning Rate\n",
        "# def learning_rate(n : int , min_rate=0.01 ) -> float  :\n",
        "#     \"\"\"Decaying learning rate\"\"\"\n",
        "#     return max(min_rate, min(1.0, 1.0 - math.log10((n + 1) / 25)))\n",
        "\n",
        "# def new_Q_value( reward : float ,  new_state : tuple , discount_factor=1 ) -> float:\n",
        "#     future_optimal_value = np.max(Q_table[new_state])\n",
        "#     learned_value = reward + discount_factor * future_optimal_value\n",
        "#     return learned_value\n",
        "\n",
        "\n",
        "# def exploration_rate(n : int, min_rate= 0.1 ) -> float :\n",
        "#     \"\"\"Decaying exploration rate\"\"\"\n",
        "#     return max(min_rate, min(1, 1.0 - math.log10((n  + 1) / 25)))"
      ],
      "metadata": {
        "id": "-CxG9ijGauxl"
      },
      "execution_count": 94,
      "outputs": []
    },
    {
      "cell_type": "code",
      "source": [
        "#Return the best action based on Q_table\n",
        "def trained_policy( state : tuple ):\n",
        "    return np.argmax(Q_table[state])"
      ],
      "metadata": {
        "id": "pSDcJ74Wlpii"
      },
      "execution_count": 95,
      "outputs": []
    },
    {
      "cell_type": "code",
      "source": [
        "\n",
        "\n",
        "\n",
        "#Train agent\n",
        "env = gym.make('CartPole-v1')\n",
        "#env = gym.make('CartPole-v1', render_mode='human')\n",
        "\n",
        "for e in range(n_episodes):\n",
        "    print(e)\n",
        "    obs = env.reset()\n",
        "    #print(*env.reset()[0])\n",
        "    #print(*obs[0])\n",
        "    \n",
        "    done = False\n",
        "\n",
        "    current_state = discretizer(*obs)\n",
        "    \n",
        "    while done==False:\n",
        "        \n",
        "        # policy action \n",
        "        action = trained_policy(current_state) # exploit\n",
        "        \n",
        "        #check whether a random number(0,1) is < epsilon\n",
        "        #if yes, choose a random action to explore\n",
        "        if np.random.random() < exploration_rate(e) : \n",
        "            action = env.action_space.sample() \n",
        "         \n",
        "\n",
        "        obs, reward, done, info = env.step(action)\n",
        "        #print(\"obs is\", obs)\n",
        "        \n",
        "        #if reach end state, get out of while loop\n",
        "        if (done):\n",
        "          break\n",
        "        else:\n",
        "\n",
        "          #discretize the new_state observation into discrete values\n",
        "            new_state = discretizer(*obs)\n",
        "        \n",
        "            \n",
        "            lr = learning_rate(e)\n",
        "            future_optimal_value = np.max(Q_table[new_state])\n",
        "            discount = 1\n",
        "\n",
        "            #update Qtable based on q-learning \n",
        "            new_value_for_stateactionpair = reward + discount * future_optimal_value\n",
        "            old_value = Q_table[current_state][action]\n",
        "            Q_table[current_state][action] = (1-lr)*old_value + lr*new_value_for_stateactionpair\n",
        "\n",
        "            #continue to the next state \n",
        "            current_state = new_state\n",
        "            \n",
        "               \n",
        "env.close()"
      ],
      "metadata": {
        "id": "sEyOpWAjiXnV",
        "outputId": "108de3a4-0523-41d9-9ddc-a095e2eb3209",
        "colab": {
          "base_uri": "https://localhost:8080/"
        }
      },
      "execution_count": 96,
      "outputs": [
        {
          "output_type": "stream",
          "name": "stdout",
          "text": [
            "0\n",
            "1\n",
            "2\n",
            "3\n",
            "4\n",
            "5\n",
            "6\n",
            "7\n",
            "8\n",
            "9\n",
            "10\n",
            "11\n",
            "12\n",
            "13\n",
            "14\n",
            "15\n",
            "16\n",
            "17\n",
            "18\n",
            "19\n",
            "20\n",
            "21\n",
            "22\n",
            "23\n",
            "24\n",
            "25\n",
            "26\n",
            "27\n",
            "28\n",
            "29\n",
            "30\n",
            "31\n",
            "32\n",
            "33\n",
            "34\n",
            "35\n",
            "36\n",
            "37\n",
            "38\n",
            "39\n",
            "40\n",
            "41\n",
            "42\n",
            "43\n",
            "44\n",
            "45\n",
            "46\n",
            "47\n",
            "48\n",
            "49\n",
            "50\n",
            "51\n",
            "52\n",
            "53\n",
            "54\n",
            "55\n",
            "56\n",
            "57\n",
            "58\n",
            "59\n",
            "60\n",
            "61\n",
            "62\n",
            "63\n",
            "64\n",
            "65\n",
            "66\n",
            "67\n",
            "68\n",
            "69\n",
            "70\n",
            "71\n",
            "72\n",
            "73\n",
            "74\n",
            "75\n",
            "76\n",
            "77\n",
            "78\n",
            "79\n",
            "80\n",
            "81\n",
            "82\n",
            "83\n",
            "84\n",
            "85\n",
            "86\n",
            "87\n",
            "88\n",
            "89\n",
            "90\n",
            "91\n",
            "92\n",
            "93\n",
            "94\n",
            "95\n",
            "96\n",
            "97\n",
            "98\n",
            "99\n",
            "100\n",
            "101\n",
            "102\n",
            "103\n",
            "104\n",
            "105\n",
            "106\n",
            "107\n",
            "108\n",
            "109\n",
            "110\n",
            "111\n",
            "112\n",
            "113\n",
            "114\n",
            "115\n",
            "116\n",
            "117\n",
            "118\n",
            "119\n",
            "120\n",
            "121\n",
            "122\n",
            "123\n",
            "124\n",
            "125\n",
            "126\n",
            "127\n",
            "128\n",
            "129\n",
            "130\n",
            "131\n",
            "132\n",
            "133\n",
            "134\n",
            "135\n",
            "136\n",
            "137\n",
            "138\n",
            "139\n",
            "140\n",
            "141\n",
            "142\n",
            "143\n",
            "144\n",
            "145\n",
            "146\n",
            "147\n",
            "148\n",
            "149\n",
            "150\n",
            "151\n",
            "152\n",
            "153\n",
            "154\n",
            "155\n",
            "156\n",
            "157\n",
            "158\n",
            "159\n",
            "160\n",
            "161\n",
            "162\n",
            "163\n",
            "164\n",
            "165\n",
            "166\n",
            "167\n",
            "168\n",
            "169\n",
            "170\n",
            "171\n",
            "172\n",
            "173\n",
            "174\n",
            "175\n",
            "176\n",
            "177\n",
            "178\n",
            "179\n",
            "180\n",
            "181\n",
            "182\n",
            "183\n",
            "184\n",
            "185\n",
            "186\n",
            "187\n",
            "188\n",
            "189\n",
            "190\n",
            "191\n",
            "192\n",
            "193\n",
            "194\n",
            "195\n",
            "196\n",
            "197\n",
            "198\n",
            "199\n",
            "200\n",
            "201\n",
            "202\n",
            "203\n",
            "204\n",
            "205\n",
            "206\n",
            "207\n",
            "208\n",
            "209\n",
            "210\n",
            "211\n",
            "212\n",
            "213\n",
            "214\n",
            "215\n",
            "216\n",
            "217\n",
            "218\n",
            "219\n",
            "220\n",
            "221\n",
            "222\n",
            "223\n",
            "224\n",
            "225\n",
            "226\n",
            "227\n",
            "228\n",
            "229\n",
            "230\n",
            "231\n",
            "232\n",
            "233\n",
            "234\n",
            "235\n",
            "236\n",
            "237\n",
            "238\n",
            "239\n",
            "240\n",
            "241\n",
            "242\n",
            "243\n",
            "244\n",
            "245\n",
            "246\n",
            "247\n",
            "248\n",
            "249\n",
            "250\n",
            "251\n",
            "252\n",
            "253\n",
            "254\n",
            "255\n",
            "256\n",
            "257\n",
            "258\n",
            "259\n",
            "260\n",
            "261\n",
            "262\n",
            "263\n",
            "264\n",
            "265\n",
            "266\n",
            "267\n",
            "268\n",
            "269\n",
            "270\n",
            "271\n",
            "272\n",
            "273\n",
            "274\n",
            "275\n",
            "276\n",
            "277\n",
            "278\n",
            "279\n",
            "280\n",
            "281\n",
            "282\n",
            "283\n",
            "284\n",
            "285\n",
            "286\n",
            "287\n",
            "288\n",
            "289\n",
            "290\n",
            "291\n",
            "292\n",
            "293\n",
            "294\n",
            "295\n",
            "296\n",
            "297\n",
            "298\n",
            "299\n",
            "300\n",
            "301\n",
            "302\n",
            "303\n",
            "304\n",
            "305\n",
            "306\n",
            "307\n",
            "308\n",
            "309\n",
            "310\n",
            "311\n",
            "312\n",
            "313\n",
            "314\n",
            "315\n",
            "316\n",
            "317\n",
            "318\n",
            "319\n",
            "320\n",
            "321\n",
            "322\n",
            "323\n",
            "324\n",
            "325\n",
            "326\n",
            "327\n",
            "328\n",
            "329\n",
            "330\n",
            "331\n",
            "332\n",
            "333\n",
            "334\n",
            "335\n",
            "336\n",
            "337\n",
            "338\n",
            "339\n",
            "340\n",
            "341\n",
            "342\n",
            "343\n",
            "344\n",
            "345\n",
            "346\n",
            "347\n",
            "348\n",
            "349\n",
            "350\n",
            "351\n",
            "352\n",
            "353\n",
            "354\n",
            "355\n",
            "356\n",
            "357\n",
            "358\n",
            "359\n",
            "360\n",
            "361\n",
            "362\n",
            "363\n",
            "364\n",
            "365\n",
            "366\n",
            "367\n",
            "368\n",
            "369\n",
            "370\n",
            "371\n",
            "372\n",
            "373\n",
            "374\n",
            "375\n",
            "376\n",
            "377\n",
            "378\n",
            "379\n",
            "380\n",
            "381\n",
            "382\n",
            "383\n",
            "384\n",
            "385\n",
            "386\n",
            "387\n",
            "388\n",
            "389\n",
            "390\n",
            "391\n",
            "392\n",
            "393\n",
            "394\n",
            "395\n",
            "396\n",
            "397\n",
            "398\n",
            "399\n",
            "400\n",
            "401\n",
            "402\n",
            "403\n",
            "404\n",
            "405\n",
            "406\n",
            "407\n",
            "408\n",
            "409\n",
            "410\n",
            "411\n",
            "412\n",
            "413\n",
            "414\n",
            "415\n",
            "416\n",
            "417\n",
            "418\n",
            "419\n",
            "420\n",
            "421\n",
            "422\n",
            "423\n",
            "424\n",
            "425\n",
            "426\n",
            "427\n",
            "428\n",
            "429\n",
            "430\n",
            "431\n",
            "432\n",
            "433\n",
            "434\n",
            "435\n",
            "436\n",
            "437\n",
            "438\n",
            "439\n",
            "440\n",
            "441\n",
            "442\n",
            "443\n",
            "444\n",
            "445\n",
            "446\n",
            "447\n",
            "448\n",
            "449\n",
            "450\n",
            "451\n",
            "452\n",
            "453\n",
            "454\n",
            "455\n",
            "456\n",
            "457\n",
            "458\n",
            "459\n",
            "460\n",
            "461\n",
            "462\n",
            "463\n",
            "464\n",
            "465\n",
            "466\n",
            "467\n",
            "468\n",
            "469\n",
            "470\n",
            "471\n",
            "472\n",
            "473\n",
            "474\n",
            "475\n",
            "476\n",
            "477\n",
            "478\n",
            "479\n",
            "480\n",
            "481\n",
            "482\n",
            "483\n",
            "484\n",
            "485\n",
            "486\n",
            "487\n",
            "488\n",
            "489\n",
            "490\n",
            "491\n",
            "492\n",
            "493\n",
            "494\n",
            "495\n",
            "496\n",
            "497\n",
            "498\n",
            "499\n"
          ]
        }
      ]
    },
    {
      "cell_type": "markdown",
      "metadata": {
        "id": "RAi7KKwNiegR"
      },
      "source": [
        "For Task 1, we can show the observation and chosen action below:"
      ]
    },
    {
      "cell_type": "code",
      "execution_count": 97,
      "metadata": {
        "colab": {
          "base_uri": "https://localhost:8080/"
        },
        "id": "ae2ia-vUiNKJ",
        "outputId": "62d563c9-b0d9-4d88-9f08-1fee265f9120"
      },
      "outputs": [
        {
          "output_type": "stream",
          "name": "stdout",
          "text": [
            "Observation: [ 0.03401781 -0.03716302 -0.04196554 -0.01614322]\n",
            "Chosen action: 0\n"
          ]
        }
      ],
      "source": [
        "observation = env.reset()\n",
        "obs = discretizer(*observation)\n",
        "action = trained_policy(obs)\n",
        "#action = rand_policy_agent(observation)\n",
        "print(\"Observation:\", observation)\n",
        "print(\"Chosen action:\", action)"
      ]
    },
    {
      "cell_type": "markdown",
      "metadata": {
        "id": "-XtIQ0Rti1gm"
      },
      "source": [
        "## Task 2: Demonstrate the effectiveness of the RL agent"
      ]
    },
    {
      "cell_type": "markdown",
      "metadata": {
        "id": "djBEShf0kGI4"
      },
      "source": [
        "For this task, use the agent developed in Task 1 to play the game for 100 episodes (refer to tutorial for how to play a round), record the cumulative reward for each round, and plot the reward for each round. "
      ]
    },
    {
      "cell_type": "markdown",
      "source": [
        "#### In this task, we simply run a for loop of 100 episodes, and at the start of each episode, we reset the environment. Afterwards while the cartpole has not reached end state, we will use our trained agent policy to determine the best action. Then using that best action, we will call the environment to execute the action and retrieve the next state and reward obtained for performing the state-action pair. \n",
        "\n",
        "#### At the end of every episode, we append the total reward for each episode into the episode_results array."
      ],
      "metadata": {
        "id": "PnuGe42RKvBz"
      }
    },
    {
      "cell_type": "code",
      "source": [
        "env = gym.make('CartPole-v1')\n",
        "\n",
        "episode_results = np.array([])\n",
        "\n",
        "for _ in range(100):\n",
        "    obs = env.reset()\n",
        "    rewards = 0\n",
        "    \n",
        "    current_state, done = discretizer(*obs), False\n",
        "    while done == False:\n",
        "        #print(obs[0][0])\n",
        "\n",
        "        actions = trained_policy(current_state)\n",
        "        #print(actions)\n",
        "        obs, reward, done, info = env.step(actions)\n",
        "        rewards += reward\n",
        "        \n",
        "        new_state = discretizer(*obs)\n",
        "        current_state = new_state\n",
        "        #print(obs[0])\n",
        "        #env.render()\n",
        "        #time.sleep(0.05)\n",
        "\n",
        "    #print(rewards)        \n",
        "    episode_results = np.append(episode_results, rewards)\n",
        "\n",
        "print(\"training complete, episode results populated\")\n",
        "env.close()"
      ],
      "metadata": {
        "id": "ZJnTs6g3lAYW",
        "outputId": "07f6f304-e1b3-448e-a8a8-940706c14a02",
        "colab": {
          "base_uri": "https://localhost:8080/"
        }
      },
      "execution_count": 102,
      "outputs": [
        {
          "output_type": "stream",
          "name": "stdout",
          "text": [
            "training complete, episode results populated\n"
          ]
        }
      ]
    },
    {
      "cell_type": "markdown",
      "source": [
        "#### After getting 100 episodes worth of results, we can plot the results to see how well and consistent each episode performed in of result obtained. 0 is no reward and 500 is the max reward achievable."
      ],
      "metadata": {
        "id": "IJFbUgPoLWS3"
      }
    },
    {
      "cell_type": "markdown",
      "metadata": {
        "id": "XndSYH7wlvn7"
      },
      "source": [
        "Print the average reward over the 100 episodes."
      ]
    },
    {
      "cell_type": "code",
      "execution_count": 103,
      "metadata": {
        "colab": {
          "base_uri": "https://localhost:8080/",
          "height": 295
        },
        "id": "RZrCKywQi6CE",
        "outputId": "e13da257-e722-49c3-f198-493fde6f7531"
      },
      "outputs": [
        {
          "output_type": "display_data",
          "data": {
            "text/plain": [
              "<Figure size 432x288 with 1 Axes>"
            ],
            "image/png": "[encoded data removed]"
          },
          "metadata": {
            "needs_background": "light"
          }
        }
      ],
      "source": [
        "\n",
        "\n",
        "\n",
        "plt.plot(episode_results)\n",
        "plt.title('Cumulative reward for each episode')\n",
        "plt.ylabel('Cumulative reward')\n",
        "plt.xlabel('episode')\n",
        "plt.show()"
      ]
    },
    {
      "cell_type": "markdown",
      "source": [
        "#### This is the requirement stated in Lab that we have to pass. It checks whether the mean of all the episode's rewards is greater than 195."
      ],
      "metadata": {
        "id": "Qme7yScALn8F"
      }
    },
    {
      "cell_type": "code",
      "execution_count": 104,
      "metadata": {
        "colab": {
          "base_uri": "https://localhost:8080/"
        },
        "id": "pOiOp9OYlo5Y",
        "outputId": "d9de9805-ed06-4758-97af-11aaa3843f41"
      },
      "outputs": [
        {
          "output_type": "stream",
          "name": "stdout",
          "text": [
            "Average cumulative reward: 468.06\n",
            "Is my agent good enough? True\n"
          ]
        }
      ],
      "source": [
        "print(\"Average cumulative reward:\", episode_results.mean())\n",
        "print(\"Is my agent good enough?\", episode_results.mean() > 195)"
      ]
    },
    {
      "cell_type": "markdown",
      "metadata": {
        "id": "Yg0DCT38lFA6"
      },
      "source": [
        "## Task 3: Render one episode played by the agent"
      ]
    },
    {
      "cell_type": "markdown",
      "source": [
        "In this portion, since the agent is already trained, we can simply generate 1 episode and render the episode to see how the cartpole behaves based on our training model using Q-learning. The longer it stays upright, the higher rewards obtain."
      ],
      "metadata": {
        "id": "nOuudQ0cLwz6"
      }
    },
    {
      "cell_type": "markdown",
      "metadata": {
        "id": "vx1awMr9lc_w"
      },
      "source": [
        "Plug your agent to the code below to obtain rendered result."
      ]
    },
    {
      "cell_type": "code",
      "execution_count": 105,
      "metadata": {
        "colab": {
          "base_uri": "https://localhost:8080/",
          "height": 421
        },
        "id": "LYyavfbIa47D",
        "outputId": "9897e20d-51bc-47e4-956a-23bbc24e08b7"
      },
      "outputs": [
        {
          "output_type": "display_data",
          "data": {
            "text/plain": [
              "<IPython.core.display.HTML object>"
            ],
            "text/html": [
              "<video alt=\"test\" autoplay \n",
              "                loop controls style=\"height: 400px;\">\n",
              "                <source src=\"data:video/mp4;base64,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\" type=\"video/mp4\" />\n",
              "             </video>"
            ]
          },
          "metadata": {}
        }
      ],
      "source": [
        "env = RecordVideo(gym.make(\"CartPole-v1\"), \"./video\")\n",
        "observation = env.reset()\n",
        "while True:\n",
        "    env.render()\n",
        "    #your agent goes here\n",
        "    #action = rand_policy_agent(observation)\n",
        "    action = trained_policy(discretizer(*observation))\n",
        "    observation, reward, done, info = env.step(action) \n",
        "    if done: \n",
        "      break;    \n",
        "env.close()\n",
        "show_video()"
      ]
    }
  ],
  "metadata": {
    "colab": {
      "provenance": [],
      "include_colab_link": true
    },
    "kernelspec": {
      "display_name": "Python 3 (ipykernel)",
      "language": "python",
      "name": "python3"
    },
    "language_info": {
      "codemirror_mode": {
        "name": "ipython",
        "version": 3
      },
      "file_extension": ".py",
      "mimetype": "text/x-python",
      "name": "python",
      "nbconvert_exporter": "python",
      "pygments_lexer": "ipython3",
      "version": "3.9.13"
    }
  },
  "nbformat": 4,
  "nbformat_minor": 0
}